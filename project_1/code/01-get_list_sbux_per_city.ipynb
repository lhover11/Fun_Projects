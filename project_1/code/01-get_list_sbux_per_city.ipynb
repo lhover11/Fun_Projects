{
 "cells": [
  {
   "cell_type": "markdown",
   "id": "73e952cb",
   "metadata": {},
   "source": [
    "# Goal\n",
    "Code to randomly select 5 Starbucks from any given city when searched in google maps\n",
    "We'll use this to get an estimate of Starbucks prices per city"
   ]
  },
  {
   "cell_type": "code",
   "execution_count": 46,
   "id": "23c9eb6e-33e1-461c-96db-e87fcf34081a",
   "metadata": {},
   "outputs": [],
   "source": [
    "# Import libraries\n",
    "import requests\n",
    "from bs4 import BeautifulSoup\n",
    "import pandas as pd\n",
    "import matplotlib.pyplot as plt\n",
    "import numpy as np\n",
    "import re\n",
    "import random"
   ]
  },
  {
   "cell_type": "code",
   "execution_count": 109,
   "id": "258f32b4-52ef-4d26-bf00-b4811f667da9",
   "metadata": {},
   "outputs": [],
   "source": [
    "# Parameters\n",
    "## City we searched for in google maps\n",
    "city = \"Chicago\""
   ]
  },
  {
   "cell_type": "code",
   "execution_count": 110,
   "id": "3c84d69f-20d4-4ab0-8d98-f3ccb3e3bd47",
   "metadata": {},
   "outputs": [],
   "source": [
    "# google maps url\n",
    "url = 'https://www.google.com/maps/search/starbucks/@41.8565559,-87.7684128,11z/data=!3m1!4b1?entry=ttu&g_ep=EgoyMDI0MTIxMS4wIKXMDSoASAFQAw%3D%3D'\n",
    "html = requests.get(url)\n",
    "# html.text"
   ]
  },
  {
   "cell_type": "code",
   "execution_count": 111,
   "id": "55eac3ed-9277-4fe0-8fec-34b4e00a9c7b",
   "metadata": {},
   "outputs": [
    {
     "data": {
      "text/plain": [
       "['[\\\\\"Starbucks, 7788 S Cicero Ave, Burbank, IL 60459\\\\\"]',\n",
       " '[\\\\\"Starbucks, 55 E Jackson Blvd, Chicago, IL 60604\\\\\"]',\n",
       " '[\\\\\"Starbucks, 8359 W Grand Ave, River Grove, IL 60171\\\\\"]',\n",
       " '[\\\\\"Starbucks, 6576 N Sheridan Rd, Chicago, IL 60626\\\\\"]',\n",
       " '[\\\\\"Starbucks, 715 S Seeley Ave, Chicago, IL 60612\\\\\"]',\n",
       " '[\\\\\"Starbucks, 4558 N Kedzie Ave, Chicago, IL 60625\\\\\"]',\n",
       " '[\\\\\"Starbucks, 200 S Michigan Ave, Chicago, IL 60604\\\\\"]',\n",
       " '[\\\\\"Starbucks, 8 N Michigan Ave, Chicago, IL 60602\\\\\"]',\n",
       " '[\\\\\"Starbucks, 7112 W North Ave, Chicago, IL 60707\\\\\"]',\n",
       " '[\\\\\"Starbucks, 40 W Lake St, Chicago, IL 60601\\\\\"]',\n",
       " '[\\\\\"Starbucks, 11016 S Cicero Ave, Oak Lawn, IL 60453\\\\\"]',\n",
       " '[\\\\\"Starbucks, 9564 S Western Ave, Evergreen Park, IL 60805\\\\\"]',\n",
       " '[\\\\\"Starbucks, 6350 N Broadway, Chicago, IL 60660\\\\\"]',\n",
       " '[\\\\\"Starbucks, 2655 Mannheim Rd, Des Plaines, IL 60018\\\\\"]',\n",
       " '[\\\\\"Starbucks, 4365 W Irving Park Rd, Chicago, IL 60641\\\\\"]',\n",
       " '[\\\\\"Starbucks, 10259 S Harlem Ave, Chicago Ridge, IL 60415\\\\\"]',\n",
       " '[\\\\\"Starbucks, 2730 N Narragansett Ave, Chicago, IL 60639\\\\\"]',\n",
       " '[\\\\\"Starbucks, 10301 S Cicero Ave, Oak Lawn, IL 60453\\\\\"]',\n",
       " '[\\\\\"Starbucks, 555 S Dearborn St, Chicago, IL 60605\\\\\"]',\n",
       " '[\\\\\"Starbucks, 4830 N Pulaski Rd, Chicago, IL 60630\\\\\"]']"
      ]
     },
     "execution_count": 111,
     "metadata": {},
     "output_type": "execute_result"
    }
   ],
   "source": [
    "# Try to isolate Starbucks addresses from text\n",
    "## pattern we're looking for:\n",
    "pattern = r'\\[\\\\\\\"Starbucks, [^\\\\\\\"]+\\\\\\\"\\]'\n",
    "\n",
    "# Search for the pattern in the text\n",
    "matches = re.findall(pattern, html.text)\n",
    "matches"
   ]
  },
  {
   "cell_type": "code",
   "execution_count": 112,
   "id": "fb3cc15b-d8d8-42c5-a7dc-f5a96e7b8bdb",
   "metadata": {},
   "outputs": [
    {
     "name": "stdout",
     "output_type": "stream",
     "text": [
      "['7788 S Cicero Ave, Burbank, IL 60459', '55 E Jackson Blvd, Chicago, IL 60604', '8359 W Grand Ave, River Grove, IL 60171', '6576 N Sheridan Rd, Chicago, IL 60626', '715 S Seeley Ave, Chicago, IL 60612', '4558 N Kedzie Ave, Chicago, IL 60625', '200 S Michigan Ave, Chicago, IL 60604', '8 N Michigan Ave, Chicago, IL 60602', '7112 W North Ave, Chicago, IL 60707', '40 W Lake St, Chicago, IL 60601', '11016 S Cicero Ave, Oak Lawn, IL 60453', '9564 S Western Ave, Evergreen Park, IL 60805', '6350 N Broadway, Chicago, IL 60660', '2655 Mannheim Rd, Des Plaines, IL 60018', '4365 W Irving Park Rd, Chicago, IL 60641', '10259 S Harlem Ave, Chicago Ridge, IL 60415', '2730 N Narragansett Ave, Chicago, IL 60639', '10301 S Cicero Ave, Oak Lawn, IL 60453', '555 S Dearborn St, Chicago, IL 60605', '4830 N Pulaski Rd, Chicago, IL 60630']\n"
     ]
    }
   ],
   "source": [
    "# clean up addresses\n",
    "## get rid of \\\\\"Starbucks before the address and the \\\\\" after the address\n",
    "cleaned_data = [item.replace(r'[\\\"Starbucks, ', '').replace(r'\\\"]', '') for item in matches]\n",
    "print(cleaned_data)"
   ]
  },
  {
   "cell_type": "code",
   "execution_count": 113,
   "id": "ea67517f-b3d4-4d7f-903b-80797b4544db",
   "metadata": {},
   "outputs": [
    {
     "name": "stdout",
     "output_type": "stream",
     "text": [
      "['7788 S Cicero Ave, Burbank, IL 60459', '10259 S Harlem Ave, Chicago Ridge, IL 60415', '40 W Lake St, Chicago, IL 60601', '11016 S Cicero Ave, Oak Lawn, IL 60453', '715 S Seeley Ave, Chicago, IL 60612']\n"
     ]
    }
   ],
   "source": [
    "# randomly select 5 starbucks:\n",
    "random_selection = random.sample(cleaned_data, 5)\n",
    "print(random_selection)"
   ]
  },
  {
   "cell_type": "markdown",
   "id": "e98d37f8",
   "metadata": {},
   "source": [
    "For the 5 randomly selected starbucks, get the price of a tall latte at that address (manually, not part of this code)"
   ]
  },
  {
   "cell_type": "code",
   "execution_count": 114,
   "id": "1f721356-ce1d-4cc0-a677-74fff0188a6c",
   "metadata": {},
   "outputs": [],
   "source": [
    "# write out locations\n",
    "df = pd.DataFrame(cleaned_data, columns=['locations'])\n",
    "# df"
   ]
  },
  {
   "cell_type": "code",
   "execution_count": 115,
   "id": "1372ede4-9c70-4e02-96f4-e2dffcdd49b6",
   "metadata": {},
   "outputs": [],
   "source": [
    "# Add a new column 'selected' to show which locations were randomly chosen\n",
    "df['selected'] = df['locations'].apply(lambda x: 'yes' if x in random_selection else 'no')\n",
    "# df"
   ]
  },
  {
   "cell_type": "code",
   "execution_count": 116,
   "id": "a5ed39ac-a93d-4ebf-9911-353fc5285968",
   "metadata": {},
   "outputs": [],
   "source": [
    "# add a column to show the city we're looking at\n",
    "df['city'] = city\n",
    "# df"
   ]
  },
  {
   "cell_type": "code",
   "execution_count": 117,
   "id": "f3e6434d-9861-4752-b18f-1fdde068a2fb",
   "metadata": {},
   "outputs": [],
   "source": [
    "# reorder data frame\n",
    "column_order = ['city', 'locations', 'selected']\n",
    "df = df[column_order]\n",
    "# df"
   ]
  },
  {
   "cell_type": "code",
   "execution_count": 118,
   "id": "1d85e8d9-2eb9-42ad-bb5e-2d34c34fd30b",
   "metadata": {},
   "outputs": [
    {
     "data": {
      "text/html": [
       "<div>\n",
       "<style scoped>\n",
       "    .dataframe tbody tr th:only-of-type {\n",
       "        vertical-align: middle;\n",
       "    }\n",
       "\n",
       "    .dataframe tbody tr th {\n",
       "        vertical-align: top;\n",
       "    }\n",
       "\n",
       "    .dataframe thead th {\n",
       "        text-align: right;\n",
       "    }\n",
       "</style>\n",
       "<table border=\"1\" class=\"dataframe\">\n",
       "  <thead>\n",
       "    <tr style=\"text-align: right;\">\n",
       "      <th></th>\n",
       "      <th>city</th>\n",
       "      <th>locations</th>\n",
       "      <th>selected</th>\n",
       "    </tr>\n",
       "  </thead>\n",
       "  <tbody>\n",
       "    <tr>\n",
       "      <th>0</th>\n",
       "      <td>Chicago</td>\n",
       "      <td>7788 S Cicero Ave, Burbank, IL 60459</td>\n",
       "      <td>yes</td>\n",
       "    </tr>\n",
       "    <tr>\n",
       "      <th>1</th>\n",
       "      <td>Chicago</td>\n",
       "      <td>55 E Jackson Blvd, Chicago, IL 60604</td>\n",
       "      <td>no</td>\n",
       "    </tr>\n",
       "    <tr>\n",
       "      <th>2</th>\n",
       "      <td>Chicago</td>\n",
       "      <td>8359 W Grand Ave, River Grove, IL 60171</td>\n",
       "      <td>no</td>\n",
       "    </tr>\n",
       "    <tr>\n",
       "      <th>3</th>\n",
       "      <td>Chicago</td>\n",
       "      <td>6576 N Sheridan Rd, Chicago, IL 60626</td>\n",
       "      <td>no</td>\n",
       "    </tr>\n",
       "    <tr>\n",
       "      <th>4</th>\n",
       "      <td>Chicago</td>\n",
       "      <td>715 S Seeley Ave, Chicago, IL 60612</td>\n",
       "      <td>yes</td>\n",
       "    </tr>\n",
       "  </tbody>\n",
       "</table>\n",
       "</div>"
      ],
      "text/plain": [
       "      city                                locations selected\n",
       "0  Chicago     7788 S Cicero Ave, Burbank, IL 60459      yes\n",
       "1  Chicago     55 E Jackson Blvd, Chicago, IL 60604       no\n",
       "2  Chicago  8359 W Grand Ave, River Grove, IL 60171       no\n",
       "3  Chicago    6576 N Sheridan Rd, Chicago, IL 60626       no\n",
       "4  Chicago      715 S Seeley Ave, Chicago, IL 60612      yes"
      ]
     },
     "execution_count": 118,
     "metadata": {},
     "output_type": "execute_result"
    }
   ],
   "source": [
    "df.head()"
   ]
  },
  {
   "cell_type": "code",
   "execution_count": 119,
   "id": "316656a6-24ca-47c8-b743-c302de5786fa",
   "metadata": {},
   "outputs": [],
   "source": [
    "# write out dataframe\n",
    "filename =  \"../data/\" + city + \"_google_maps_locations.csv\"\n",
    "df.to_csv(filename, index = False)"
   ]
  }
 ],
 "metadata": {
  "kernelspec": {
   "display_name": "Python 3 (ipykernel)",
   "language": "python",
   "name": "python3"
  },
  "language_info": {
   "codemirror_mode": {
    "name": "ipython",
    "version": 3
   },
   "file_extension": ".py",
   "mimetype": "text/x-python",
   "name": "python",
   "nbconvert_exporter": "python",
   "pygments_lexer": "ipython3",
   "version": "3.12.3"
  }
 },
 "nbformat": 4,
 "nbformat_minor": 5
}
